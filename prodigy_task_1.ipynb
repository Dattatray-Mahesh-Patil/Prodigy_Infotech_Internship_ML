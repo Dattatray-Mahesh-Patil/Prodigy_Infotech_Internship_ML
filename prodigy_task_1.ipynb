{
 "cells": [
  {
   "cell_type": "code",
   "execution_count": 45,
   "id": "d5c965e6",
   "metadata": {},
   "outputs": [],
   "source": [
    "import pandas as pd\n",
    "import numpy as np\n",
    "import seaborn as sns\n",
    "import matplotlib.pyplot as plt\n",
    "\n",
    "import warnings\n",
    "warnings.filterwarnings(\"ignore\")\n",
    "\n",
    "from sklearn.model_selection import train_test_split\n",
    "from sklearn.linear_model import LinearRegression\n",
    "\n",
    "from sklearn.metrics import mean_squared_error, mean_absolute_error, r2_score"
   ]
  },
  {
   "cell_type": "code",
   "execution_count": 30,
   "id": "37e83bed",
   "metadata": {},
   "outputs": [
    {
     "data": {
      "text/html": [
       "<div>\n",
       "<style scoped>\n",
       "    .dataframe tbody tr th:only-of-type {\n",
       "        vertical-align: middle;\n",
       "    }\n",
       "\n",
       "    .dataframe tbody tr th {\n",
       "        vertical-align: top;\n",
       "    }\n",
       "\n",
       "    .dataframe thead th {\n",
       "        text-align: right;\n",
       "    }\n",
       "</style>\n",
       "<table border=\"1\" class=\"dataframe\">\n",
       "  <thead>\n",
       "    <tr style=\"text-align: right;\">\n",
       "      <th></th>\n",
       "      <th>Id</th>\n",
       "      <th>MSSubClass</th>\n",
       "      <th>MSZoning</th>\n",
       "      <th>LotFrontage</th>\n",
       "      <th>LotArea</th>\n",
       "      <th>Street</th>\n",
       "      <th>Alley</th>\n",
       "      <th>LotShape</th>\n",
       "      <th>LandContour</th>\n",
       "      <th>Utilities</th>\n",
       "      <th>...</th>\n",
       "      <th>PoolArea</th>\n",
       "      <th>PoolQC</th>\n",
       "      <th>Fence</th>\n",
       "      <th>MiscFeature</th>\n",
       "      <th>MiscVal</th>\n",
       "      <th>MoSold</th>\n",
       "      <th>YrSold</th>\n",
       "      <th>SaleType</th>\n",
       "      <th>SaleCondition</th>\n",
       "      <th>SalePrice</th>\n",
       "    </tr>\n",
       "  </thead>\n",
       "  <tbody>\n",
       "    <tr>\n",
       "      <th>0</th>\n",
       "      <td>1</td>\n",
       "      <td>60</td>\n",
       "      <td>RL</td>\n",
       "      <td>65.0</td>\n",
       "      <td>8450</td>\n",
       "      <td>Pave</td>\n",
       "      <td>NaN</td>\n",
       "      <td>Reg</td>\n",
       "      <td>Lvl</td>\n",
       "      <td>AllPub</td>\n",
       "      <td>...</td>\n",
       "      <td>0</td>\n",
       "      <td>NaN</td>\n",
       "      <td>NaN</td>\n",
       "      <td>NaN</td>\n",
       "      <td>0</td>\n",
       "      <td>2</td>\n",
       "      <td>2008</td>\n",
       "      <td>WD</td>\n",
       "      <td>Normal</td>\n",
       "      <td>208500</td>\n",
       "    </tr>\n",
       "    <tr>\n",
       "      <th>1</th>\n",
       "      <td>2</td>\n",
       "      <td>20</td>\n",
       "      <td>RL</td>\n",
       "      <td>80.0</td>\n",
       "      <td>9600</td>\n",
       "      <td>Pave</td>\n",
       "      <td>NaN</td>\n",
       "      <td>Reg</td>\n",
       "      <td>Lvl</td>\n",
       "      <td>AllPub</td>\n",
       "      <td>...</td>\n",
       "      <td>0</td>\n",
       "      <td>NaN</td>\n",
       "      <td>NaN</td>\n",
       "      <td>NaN</td>\n",
       "      <td>0</td>\n",
       "      <td>5</td>\n",
       "      <td>2007</td>\n",
       "      <td>WD</td>\n",
       "      <td>Normal</td>\n",
       "      <td>181500</td>\n",
       "    </tr>\n",
       "    <tr>\n",
       "      <th>2</th>\n",
       "      <td>3</td>\n",
       "      <td>60</td>\n",
       "      <td>RL</td>\n",
       "      <td>68.0</td>\n",
       "      <td>11250</td>\n",
       "      <td>Pave</td>\n",
       "      <td>NaN</td>\n",
       "      <td>IR1</td>\n",
       "      <td>Lvl</td>\n",
       "      <td>AllPub</td>\n",
       "      <td>...</td>\n",
       "      <td>0</td>\n",
       "      <td>NaN</td>\n",
       "      <td>NaN</td>\n",
       "      <td>NaN</td>\n",
       "      <td>0</td>\n",
       "      <td>9</td>\n",
       "      <td>2008</td>\n",
       "      <td>WD</td>\n",
       "      <td>Normal</td>\n",
       "      <td>223500</td>\n",
       "    </tr>\n",
       "    <tr>\n",
       "      <th>3</th>\n",
       "      <td>4</td>\n",
       "      <td>70</td>\n",
       "      <td>RL</td>\n",
       "      <td>60.0</td>\n",
       "      <td>9550</td>\n",
       "      <td>Pave</td>\n",
       "      <td>NaN</td>\n",
       "      <td>IR1</td>\n",
       "      <td>Lvl</td>\n",
       "      <td>AllPub</td>\n",
       "      <td>...</td>\n",
       "      <td>0</td>\n",
       "      <td>NaN</td>\n",
       "      <td>NaN</td>\n",
       "      <td>NaN</td>\n",
       "      <td>0</td>\n",
       "      <td>2</td>\n",
       "      <td>2006</td>\n",
       "      <td>WD</td>\n",
       "      <td>Abnorml</td>\n",
       "      <td>140000</td>\n",
       "    </tr>\n",
       "    <tr>\n",
       "      <th>4</th>\n",
       "      <td>5</td>\n",
       "      <td>60</td>\n",
       "      <td>RL</td>\n",
       "      <td>84.0</td>\n",
       "      <td>14260</td>\n",
       "      <td>Pave</td>\n",
       "      <td>NaN</td>\n",
       "      <td>IR1</td>\n",
       "      <td>Lvl</td>\n",
       "      <td>AllPub</td>\n",
       "      <td>...</td>\n",
       "      <td>0</td>\n",
       "      <td>NaN</td>\n",
       "      <td>NaN</td>\n",
       "      <td>NaN</td>\n",
       "      <td>0</td>\n",
       "      <td>12</td>\n",
       "      <td>2008</td>\n",
       "      <td>WD</td>\n",
       "      <td>Normal</td>\n",
       "      <td>250000</td>\n",
       "    </tr>\n",
       "  </tbody>\n",
       "</table>\n",
       "<p>5 rows × 81 columns</p>\n",
       "</div>"
      ],
      "text/plain": [
       "   Id  MSSubClass MSZoning  LotFrontage  LotArea Street Alley LotShape  \\\n",
       "0   1          60       RL         65.0     8450   Pave   NaN      Reg   \n",
       "1   2          20       RL         80.0     9600   Pave   NaN      Reg   \n",
       "2   3          60       RL         68.0    11250   Pave   NaN      IR1   \n",
       "3   4          70       RL         60.0     9550   Pave   NaN      IR1   \n",
       "4   5          60       RL         84.0    14260   Pave   NaN      IR1   \n",
       "\n",
       "  LandContour Utilities  ... PoolArea PoolQC Fence MiscFeature MiscVal MoSold  \\\n",
       "0         Lvl    AllPub  ...        0    NaN   NaN         NaN       0      2   \n",
       "1         Lvl    AllPub  ...        0    NaN   NaN         NaN       0      5   \n",
       "2         Lvl    AllPub  ...        0    NaN   NaN         NaN       0      9   \n",
       "3         Lvl    AllPub  ...        0    NaN   NaN         NaN       0      2   \n",
       "4         Lvl    AllPub  ...        0    NaN   NaN         NaN       0     12   \n",
       "\n",
       "  YrSold  SaleType  SaleCondition  SalePrice  \n",
       "0   2008        WD         Normal     208500  \n",
       "1   2007        WD         Normal     181500  \n",
       "2   2008        WD         Normal     223500  \n",
       "3   2006        WD        Abnorml     140000  \n",
       "4   2008        WD         Normal     250000  \n",
       "\n",
       "[5 rows x 81 columns]"
      ]
     },
     "execution_count": 30,
     "metadata": {},
     "output_type": "execute_result"
    }
   ],
   "source": [
    "file =(r\"C:\\Users\\Dell\\OneDrive\\Desktop\\prodigy\\task1\\train.csv\")\n",
    "df = pd.read_csv(file)\n",
    "df.head()"
   ]
  },
  {
   "cell_type": "code",
   "execution_count": 32,
   "id": "bb25edcb",
   "metadata": {},
   "outputs": [
    {
     "data": {
      "text/plain": [
       "(1460, 81)"
      ]
     },
     "execution_count": 32,
     "metadata": {},
     "output_type": "execute_result"
    }
   ],
   "source": [
    "df.shape"
   ]
  },
  {
   "cell_type": "code",
   "execution_count": 33,
   "id": "bb155ee8",
   "metadata": {},
   "outputs": [
    {
     "data": {
      "text/html": [
       "<div>\n",
       "<style scoped>\n",
       "    .dataframe tbody tr th:only-of-type {\n",
       "        vertical-align: middle;\n",
       "    }\n",
       "\n",
       "    .dataframe tbody tr th {\n",
       "        vertical-align: top;\n",
       "    }\n",
       "\n",
       "    .dataframe thead th {\n",
       "        text-align: right;\n",
       "    }\n",
       "</style>\n",
       "<table border=\"1\" class=\"dataframe\">\n",
       "  <thead>\n",
       "    <tr style=\"text-align: right;\">\n",
       "      <th></th>\n",
       "      <th>LotArea</th>\n",
       "      <th>FullBath</th>\n",
       "      <th>HalfBath</th>\n",
       "      <th>BedroomAbvGr</th>\n",
       "      <th>SalePrice</th>\n",
       "    </tr>\n",
       "  </thead>\n",
       "  <tbody>\n",
       "    <tr>\n",
       "      <th>0</th>\n",
       "      <td>8450</td>\n",
       "      <td>2</td>\n",
       "      <td>1</td>\n",
       "      <td>3</td>\n",
       "      <td>208500</td>\n",
       "    </tr>\n",
       "    <tr>\n",
       "      <th>1</th>\n",
       "      <td>9600</td>\n",
       "      <td>2</td>\n",
       "      <td>0</td>\n",
       "      <td>3</td>\n",
       "      <td>181500</td>\n",
       "    </tr>\n",
       "    <tr>\n",
       "      <th>2</th>\n",
       "      <td>11250</td>\n",
       "      <td>2</td>\n",
       "      <td>1</td>\n",
       "      <td>3</td>\n",
       "      <td>223500</td>\n",
       "    </tr>\n",
       "    <tr>\n",
       "      <th>3</th>\n",
       "      <td>9550</td>\n",
       "      <td>1</td>\n",
       "      <td>0</td>\n",
       "      <td>3</td>\n",
       "      <td>140000</td>\n",
       "    </tr>\n",
       "    <tr>\n",
       "      <th>4</th>\n",
       "      <td>14260</td>\n",
       "      <td>2</td>\n",
       "      <td>1</td>\n",
       "      <td>4</td>\n",
       "      <td>250000</td>\n",
       "    </tr>\n",
       "  </tbody>\n",
       "</table>\n",
       "</div>"
      ],
      "text/plain": [
       "   LotArea  FullBath  HalfBath  BedroomAbvGr  SalePrice\n",
       "0     8450         2         1             3     208500\n",
       "1     9600         2         0             3     181500\n",
       "2    11250         2         1             3     223500\n",
       "3     9550         1         0             3     140000\n",
       "4    14260         2         1             4     250000"
      ]
     },
     "execution_count": 33,
     "metadata": {},
     "output_type": "execute_result"
    }
   ],
   "source": [
    "df1=df[['LotArea', 'FullBath', 'HalfBath', 'BedroomAbvGr','SalePrice']]\n",
    "df1.head()"
   ]
  },
  {
   "cell_type": "code",
   "execution_count": 34,
   "id": "9f24d208",
   "metadata": {},
   "outputs": [
    {
     "data": {
      "text/plain": [
       "3"
      ]
     },
     "execution_count": 34,
     "metadata": {},
     "output_type": "execute_result"
    }
   ],
   "source": [
    "df1.duplicated().sum()"
   ]
  },
  {
   "cell_type": "code",
   "execution_count": 35,
   "id": "eb3f7873",
   "metadata": {},
   "outputs": [
    {
     "data": {
      "text/html": [
       "<div>\n",
       "<style scoped>\n",
       "    .dataframe tbody tr th:only-of-type {\n",
       "        vertical-align: middle;\n",
       "    }\n",
       "\n",
       "    .dataframe tbody tr th {\n",
       "        vertical-align: top;\n",
       "    }\n",
       "\n",
       "    .dataframe thead th {\n",
       "        text-align: right;\n",
       "    }\n",
       "</style>\n",
       "<table border=\"1\" class=\"dataframe\">\n",
       "  <thead>\n",
       "    <tr style=\"text-align: right;\">\n",
       "      <th></th>\n",
       "      <th>LotArea</th>\n",
       "      <th>FullBath</th>\n",
       "      <th>HalfBath</th>\n",
       "      <th>BedroomAbvGr</th>\n",
       "      <th>SalePrice</th>\n",
       "    </tr>\n",
       "  </thead>\n",
       "  <tbody>\n",
       "    <tr>\n",
       "      <th>0</th>\n",
       "      <td>8450</td>\n",
       "      <td>2</td>\n",
       "      <td>1</td>\n",
       "      <td>3</td>\n",
       "      <td>208500</td>\n",
       "    </tr>\n",
       "    <tr>\n",
       "      <th>1</th>\n",
       "      <td>9600</td>\n",
       "      <td>2</td>\n",
       "      <td>0</td>\n",
       "      <td>3</td>\n",
       "      <td>181500</td>\n",
       "    </tr>\n",
       "    <tr>\n",
       "      <th>2</th>\n",
       "      <td>11250</td>\n",
       "      <td>2</td>\n",
       "      <td>1</td>\n",
       "      <td>3</td>\n",
       "      <td>223500</td>\n",
       "    </tr>\n",
       "    <tr>\n",
       "      <th>3</th>\n",
       "      <td>9550</td>\n",
       "      <td>1</td>\n",
       "      <td>0</td>\n",
       "      <td>3</td>\n",
       "      <td>140000</td>\n",
       "    </tr>\n",
       "    <tr>\n",
       "      <th>4</th>\n",
       "      <td>14260</td>\n",
       "      <td>2</td>\n",
       "      <td>1</td>\n",
       "      <td>4</td>\n",
       "      <td>250000</td>\n",
       "    </tr>\n",
       "    <tr>\n",
       "      <th>...</th>\n",
       "      <td>...</td>\n",
       "      <td>...</td>\n",
       "      <td>...</td>\n",
       "      <td>...</td>\n",
       "      <td>...</td>\n",
       "    </tr>\n",
       "    <tr>\n",
       "      <th>1455</th>\n",
       "      <td>7917</td>\n",
       "      <td>2</td>\n",
       "      <td>1</td>\n",
       "      <td>3</td>\n",
       "      <td>175000</td>\n",
       "    </tr>\n",
       "    <tr>\n",
       "      <th>1456</th>\n",
       "      <td>13175</td>\n",
       "      <td>2</td>\n",
       "      <td>0</td>\n",
       "      <td>3</td>\n",
       "      <td>210000</td>\n",
       "    </tr>\n",
       "    <tr>\n",
       "      <th>1457</th>\n",
       "      <td>9042</td>\n",
       "      <td>2</td>\n",
       "      <td>0</td>\n",
       "      <td>4</td>\n",
       "      <td>266500</td>\n",
       "    </tr>\n",
       "    <tr>\n",
       "      <th>1458</th>\n",
       "      <td>9717</td>\n",
       "      <td>1</td>\n",
       "      <td>0</td>\n",
       "      <td>2</td>\n",
       "      <td>142125</td>\n",
       "    </tr>\n",
       "    <tr>\n",
       "      <th>1459</th>\n",
       "      <td>9937</td>\n",
       "      <td>1</td>\n",
       "      <td>1</td>\n",
       "      <td>3</td>\n",
       "      <td>147500</td>\n",
       "    </tr>\n",
       "  </tbody>\n",
       "</table>\n",
       "<p>1457 rows × 5 columns</p>\n",
       "</div>"
      ],
      "text/plain": [
       "      LotArea  FullBath  HalfBath  BedroomAbvGr  SalePrice\n",
       "0        8450         2         1             3     208500\n",
       "1        9600         2         0             3     181500\n",
       "2       11250         2         1             3     223500\n",
       "3        9550         1         0             3     140000\n",
       "4       14260         2         1             4     250000\n",
       "...       ...       ...       ...           ...        ...\n",
       "1455     7917         2         1             3     175000\n",
       "1456    13175         2         0             3     210000\n",
       "1457     9042         2         0             4     266500\n",
       "1458     9717         1         0             2     142125\n",
       "1459     9937         1         1             3     147500\n",
       "\n",
       "[1457 rows x 5 columns]"
      ]
     },
     "execution_count": 35,
     "metadata": {},
     "output_type": "execute_result"
    }
   ],
   "source": [
    "df1.drop_duplicates()"
   ]
  },
  {
   "cell_type": "code",
   "execution_count": 36,
   "id": "9eeddd98",
   "metadata": {},
   "outputs": [
    {
     "data": {
      "text/plain": [
       "Text(0.5, 1.0, 'Scatter Relating SalePrice to LotArea')"
      ]
     },
     "execution_count": 36,
     "metadata": {},
     "output_type": "execute_result"
    },
    {
     "data": {
      "image/png": "[encoded data removed]",
      "text/plain": [
       "<Figure size 1600x600 with 1 Axes>"
      ]
     },
     "metadata": {},
     "output_type": "display_data"
    }
   ],
   "source": [
    "fig, axs = plt.subplots(figsize = (16,6))\n",
    "\n",
    "axs = plt.scatter(x=df1.LotArea, y=df.SalePrice)\n",
    "plt.ylabel('Sale Price')\n",
    "plt.xlabel('Lot size in square feet')\n",
    "plt.title('Scatter Relating SalePrice to LotArea')"
   ]
  },
  {
   "cell_type": "code",
   "execution_count": 57,
   "id": "34ea9cd3",
   "metadata": {},
   "outputs": [],
   "source": [
    "# Outlier reduction for price\n",
    "Q1 = df1.SalePrice.quantile(0.25)\n",
    "Q3 = df1.SalePrice.quantile(0.75)\n",
    "IQR = Q3 - Q1\n",
    "df1 = df1[(df1.SalePrice >= Q1 - 1.5*IQR) & (df1.SalePrice <= Q3 + 1.5*IQR)]\n",
    "# Outlier reduction for area\n",
    "Q1 = df1.LotArea.quantile(0.25)\n",
    "Q3 = df1.LotArea.quantile(0.75)\n",
    "IQR = Q3 - Q1\n",
    "df1 = df1[(df1.LotArea >= Q1 - 1.5*IQR) & (df1.LotArea <= Q3 + 1.5*IQR)]\n",
    "\n",
    "# Outlier reduction for area\n",
    "Q1 = df1.BedroomAbvGr.quantile(0.25)\n",
    "Q3 = df1.BedroomAbvGr.quantile(0.75)\n",
    "IQR = Q3 - Q1\n",
    "df1 = df1[(df1.BedroomAbvGr >= Q1 - 1.5*IQR) & (df1.BedroomAbvGr <= Q3 + 1.5*IQR)]"
   ]
  },
  {
   "cell_type": "code",
   "execution_count": 49,
   "id": "de790461",
   "metadata": {},
   "outputs": [],
   "source": [
    "X = df1.drop('SalePrice',axis=1)\n",
    "y = df1['SalePrice']"
   ]
  },
  {
   "cell_type": "code",
   "execution_count": 41,
   "id": "2f1a682f",
   "metadata": {},
   "outputs": [],
   "source": [
    "X_train, X_test, y_train, y_test = train_test_split(X,y,test_size=0.2, random_state=33)"
   ]
  },
  {
   "cell_type": "code",
   "execution_count": 46,
   "id": "f2887065",
   "metadata": {},
   "outputs": [
    {
     "data": {
      "text/plain": [
       "LinearRegression()"
      ]
     },
     "execution_count": 46,
     "metadata": {},
     "output_type": "execute_result"
    }
   ],
   "source": [
    "lr_model = LinearRegression()\n",
    "lr_model.fit(X_train, y_train)"
   ]
  },
  {
   "cell_type": "code",
   "execution_count": 60,
   "id": "2208d93c",
   "metadata": {},
   "outputs": [
    {
     "name": "stdout",
     "output_type": "stream",
     "text": [
      "[117321.50159374 212420.65042804 181015.80247817 140738.80073797\n",
      " 212660.73757229 238406.92475168 122372.13420288 167573.1903672\n",
      " 227156.76075329 114911.82757135 190230.05161521 155726.7852233\n",
      " 194589.52870817 185485.17147491 224090.14925512 205829.39790869\n",
      " 204500.25916496 127266.16383186 197322.70063829 142425.72883046\n",
      " 224368.14489583 141471.6983362  221209.10352412 221274.76884871\n",
      " 197839.50773543 151388.74687574 104852.0907554  226196.55530582\n",
      " 165797.8091163  185173.10092333 131316.05487039 129799.71501197\n",
      " 144145.73955464 164043.09086175 129909.60691576 221664.00548165\n",
      " 186214.23548756 220017.32725323 192681.46771966  99122.93879557\n",
      " 156198.37346206 147197.3735197  208088.93016321  98832.30698937\n",
      " 173335.28182919 194576.89254268 185737.89478465 130459.28011444\n",
      " 195619.37619534 105989.34564922 114029.78048442 198159.02892804\n",
      " 147908.83237255 206572.59030479 190478.94133936 204180.37831266\n",
      " 123553.61567589 207473.23198026 288102.83877387 100303.07118015\n",
      " 135760.15153616 113499.06153398 210405.18203289 135621.1537158\n",
      " 213791.67438336 232561.20599605 106747.51557842 216563.82048974\n",
      " 102425.94698193 136833.23332336 125643.90878478 159366.21741366\n",
      " 193092.14309798 137122.37291158 224088.65703714 187409.7022145\n",
      " 251851.80482966 162765.34592961 203255.5968645  126207.21042812\n",
      " 122976.18564909 130345.55462506 125989.9111177  224740.91177769\n",
      " 209125.09573313 215364.87698647 197805.43282456 144392.00165209\n",
      " 121152.7442334  148659.33513058 165220.59561965 201627.87288432\n",
      " 129998.06007417 193885.73702649 212130.01862184 117361.89458735\n",
      " 192417.60046241 119825.94685728 173836.11911404 194703.25419755\n",
      " 115144.24754442 204967.65415843 107812.78706491 233740.34610145\n",
      " 115661.33805019 238830.23629549 223938.51526927 181609.4857259\n",
      " 125575.40215378 116531.74125081 182925.35568465 138878.79991425\n",
      "  95804.59626684 181788.10079084 105285.55396754 190564.91000061\n",
      " 216401.04255639 186875.14967846 118183.24534399 186458.1562174\n",
      " 167137.45918805 164043.09086175 106597.37381055 128551.21912593\n",
      " 123923.8980606  128734.44352549 142654.67202719 135485.98948104\n",
      " 181972.31746958 193092.14309798 180191.96722437 134980.54286157\n",
      " 217660.68238994 209318.47180102 169266.65307258 182279.41902685\n",
      " 119383.68106524 187796.59747982 234119.43106606 116152.65628621\n",
      " 160230.08600138 201267.74216795 213632.2300968  221464.31133101\n",
      " 169942.47139598 114930.78181958 206285.79208419 268149.9738105\n",
      " 146384.82534296 116982.80962275 109780.19529526 168010.84682462\n",
      " 114854.96482666 187532.23028378 157461.77348059 181087.7858855\n",
      " 178718.50485672 171006.61032417 225901.9467845  171082.42731709\n",
      " 198971.79363494 114612.31978464 122976.18564909 194743.64719116\n",
      " 104739.85748399 111035.00926405 212119.72382397 100704.94397857\n",
      " 220131.19587215 204620.30273708 214309.75716832 145681.03366128\n",
      " 122976.18564909 122976.18564909 166783.43002427 204371.41301294\n",
      " 216753.36297205 214006.48919663 215522.82905505 158903.28862527\n",
      " 221992.5457843  194091.67585926 134348.73458723 147616.70834839\n",
      " 200958.15611352 207972.72017668 220771.66359685 161449.47597086\n",
      " 221264.47405084 177041.72843257 125092.74336813 207126.09708906\n",
      " 120205.03182189 189351.83811388 209605.27002163 102000.15094097\n",
      " 100458.53875158 158641.90586517 208016.94675588 214773.46170574\n",
      " 142079.72649754 130863.63741002 160065.04010103 200886.31583573\n",
      " 203448.9729324  220236.11878164 176209.23372841 156602.73075764\n",
      " 121152.7442334  219223.73332472 163014.23565376 129770.60909541\n",
      " 156981.81572224 116906.99262983 138162.51519663 113571.04494131\n",
      " 149326.56740423 117361.89458735 184878.63553155 204220.77130627\n",
      " 180771.88174833 190652.37087984 221866.18412944 147197.3735197\n",
      " 187974.49607582 161568.74379396 229315.20368391 120767.34118605\n",
      " 165789.22306655 145721.28352536 211592.98158865 139615.67422761\n",
      " 146237.0249427  157331.57824013 119415.27147896 210624.82271094\n",
      " 181087.7858855  203946.60925115 219834.24598321  95059.06250312\n",
      " 224873.5915153  217928.52636232 165220.59561965 218909.32140552\n",
      " 152427.25381327 142408.2668002  139939.24553596 114854.96482666\n",
      " 204713.58176026 235063.16676244 172577.32843013 164184.21351958\n",
      " 196870.35657854 137080.63082953 153010.00964364 170542.6892566\n",
      " 204066.65282328 233683.48335676 164868.90782348]\n"
     ]
    }
   ],
   "source": [
    "y_pred = lr_model.predict(X_test)\n",
    "print(y_pred)"
   ]
  },
  {
   "cell_type": "code",
   "execution_count": 51,
   "id": "4f817cca",
   "metadata": {},
   "outputs": [
    {
     "name": "stdout",
     "output_type": "stream",
     "text": [
      "Coefficient of determination R2:  0.48489\n"
     ]
    }
   ],
   "source": [
    "r2 = round(r2_score(y_test,y_pred),5)\n",
    "print('Coefficient of determination R2: ', r2)"
   ]
  },
  {
   "cell_type": "code",
   "execution_count": 59,
   "id": "0b594c2c",
   "metadata": {
    "scrolled": false
   },
   "outputs": [
    {
     "data": {
      "text/plain": [
       "Text(0.5, 1.0, 'Scatter chart - Linear regression model')"
      ]
     },
     "execution_count": 59,
     "metadata": {},
     "output_type": "execute_result"
    },
    {
     "data": {
      "image/png": "[encoded data removed]",
      "text/plain": [
       "<Figure size 640x480 with 1 Axes>"
      ]
     },
     "metadata": {},
     "output_type": "display_data"
    }
   ],
   "source": [
    "plt.scatter(y_test, y_pred)\n",
    "plt.plot([min(y_test), max(y_test)], [min(y_test), max(y_test)], color='red', linestyle='-')\n",
    "plt.xlabel('Actual Values')\n",
    "plt.ylabel('Prediction')\n",
    "plt.title('Scatter chart - Linear regression model')"
   ]
  },
  {
   "cell_type": "code",
   "execution_count": null,
   "id": "f140df71",
   "metadata": {},
   "outputs": [],
   "source": []
  }
 ],
 "metadata": {
  "kernelspec": {
   "display_name": "Python 3 (ipykernel)",
   "language": "python",
   "name": "python3"
  },
  "language_info": {
   "codemirror_mode": {
    "name": "ipython",
    "version": 3
   },
   "file_extension": ".py",
   "mimetype": "text/x-python",
   "name": "python",
   "nbconvert_exporter": "python",
   "pygments_lexer": "ipython3",
   "version": "3.9.13"
  }
 },
 "nbformat": 4,
 "nbformat_minor": 5
}
